{
 "cells": [
  {
   "cell_type": "markdown",
   "metadata": {},
   "source": [
    "# Continuous Control\n",
    "\n",
    "---\n",
    "\n",
    "In this notebook, you will learn how to use the Unity ML-Agents environment for the second project of the [Deep Reinforcement Learning Nanodegree](https://www.udacity.com/course/deep-reinforcement-learning-nanodegree--nd893) program.\n",
    "\n",
    "### 1. Start the Environment\n",
    "\n",
    "We begin by importing the necessary packages.  If the code cell below returns an error, please revisit the project instructions to double-check that you have installed [Unity ML-Agents](https://github.com/Unity-Technologies/ml-agents/blob/master/docs/Installation.md) and [NumPy](http://www.numpy.org/)."
   ]
  },
  {
   "cell_type": "code",
   "execution_count": 1,
   "metadata": {},
   "outputs": [],
   "source": [
    "from unityagents import UnityEnvironment\n",
    "import numpy as np\n",
    "\n",
    "from collections import deque\n",
    "import matplotlib.pyplot as plt\n",
    "%matplotlib inline\n",
    "\n",
    "import torch\n",
    "import torch.nn as nn\n",
    "import torch.nn.functional as F\n",
    "import torch.optim as optim\n",
    "\n",
    "# from ddpg_agent import Agent\n",
    "from ddpg_agent import Agent\n",
    "from torchsummary import summary\n",
    "import time\n",
    "plt.ion()"
   ]
  },
  {
   "cell_type": "markdown",
   "metadata": {},
   "source": [
    "Next, we will start the environment!  **_Before running the code cell below_**, change the `file_name` parameter to match the location of the Unity environment that you downloaded.\n",
    "\n",
    "- **Mac**: `\"path/to/Reacher.app\"`\n",
    "- **Windows** (x86): `\"path/to/Reacher_Windows_x86/Reacher.exe\"`\n",
    "- **Windows** (x86_64): `\"path/to/Reacher_Windows_x86_64/Reacher.exe\"`\n",
    "- **Linux** (x86): `\"path/to/Reacher_Linux/Reacher.x86\"`\n",
    "- **Linux** (x86_64): `\"path/to/Reacher_Linux/Reacher.x86_64\"`\n",
    "- **Linux** (x86, headless): `\"path/to/Reacher_Linux_NoVis/Reacher.x86\"`\n",
    "- **Linux** (x86_64, headless): `\"path/to/Reacher_Linux_NoVis/Reacher.x86_64\"`\n",
    "\n",
    "For instance, if you are using a Mac, then you downloaded `Reacher.app`.  If this file is in the same folder as the notebook, then the line below should appear as follows:\n",
    "```\n",
    "env = UnityEnvironment(file_name=\"Reacher.app\")\n",
    "```"
   ]
  },
  {
   "cell_type": "code",
   "execution_count": 3,
   "metadata": {},
   "outputs": [
    {
     "name": "stderr",
     "output_type": "stream",
     "text": [
      "INFO:unityagents:\n",
      "'Academy' started successfully!\n",
      "Unity Academy name: Academy\n",
      "        Number of Brains: 1\n",
      "        Number of External Brains : 1\n",
      "        Lesson number : 0\n",
      "        Reset Parameters :\n",
      "\t\tgoal_size -> 5.0\n",
      "\t\tgoal_speed -> 1.0\n",
      "Unity brain name: ReacherBrain\n",
      "        Number of Visual Observations (per agent): 0\n",
      "        Vector Observation space type: continuous\n",
      "        Vector Observation space size (per agent): 33\n",
      "        Number of stacked Vector Observation: 1\n",
      "        Vector Action space type: continuous\n",
      "        Vector Action space size (per agent): 4\n",
      "        Vector Action descriptions: , , , \n"
     ]
    }
   ],
   "source": [
    "env = UnityEnvironment(file_name='Reacher_Linux_NoVis/Reacher.x86')"
   ]
  },
  {
   "cell_type": "markdown",
   "metadata": {},
   "source": [
    "Environments contain **_brains_** which are responsible for deciding the actions of their associated agents. Here we check for the first brain available, and set it as the default brain we will be controlling from Python."
   ]
  },
  {
   "cell_type": "code",
   "execution_count": 4,
   "metadata": {},
   "outputs": [],
   "source": [
    "# get the default brain\n",
    "brain_name = env.brain_names[0]\n",
    "brain = env.brains[brain_name]"
   ]
  },
  {
   "cell_type": "markdown",
   "metadata": {},
   "source": [
    "### 2. Examine the State and Action Spaces\n",
    "\n",
    "In this environment, a double-jointed arm can move to target locations. A reward of `+0.1` is provided for each step that the agent's hand is in the goal location. Thus, the goal of your agent is to maintain its position at the target location for as many time steps as possible.\n",
    "\n",
    "The observation space consists of `33` variables corresponding to position, rotation, velocity, and angular velocities of the arm.  Each action is a vector with four numbers, corresponding to torque applicable to two joints.  Every entry in the action vector must be a number between `-1` and `1`.\n",
    "\n",
    "Run the code cell below to print some information about the environment."
   ]
  },
  {
   "cell_type": "code",
   "execution_count": 5,
   "metadata": {},
   "outputs": [
    {
     "name": "stdout",
     "output_type": "stream",
     "text": [
      "Number of agents: 20\n",
      "Size of each action: 4\n",
      "There are 20 agents. Each observes a state with length: 33\n",
      "The state for the first agent looks like: [ 0.00000000e+00 -4.00000000e+00  0.00000000e+00  1.00000000e+00\n",
      " -0.00000000e+00 -0.00000000e+00 -4.37113883e-08  0.00000000e+00\n",
      "  0.00000000e+00  0.00000000e+00  0.00000000e+00  0.00000000e+00\n",
      "  0.00000000e+00  0.00000000e+00 -1.00000000e+01  0.00000000e+00\n",
      "  1.00000000e+00 -0.00000000e+00 -0.00000000e+00 -4.37113883e-08\n",
      "  0.00000000e+00  0.00000000e+00  0.00000000e+00  0.00000000e+00\n",
      "  0.00000000e+00  0.00000000e+00  5.75471878e+00 -1.00000000e+00\n",
      "  5.55726624e+00  0.00000000e+00  1.00000000e+00  0.00000000e+00\n",
      " -1.68164849e-01]\n"
     ]
    }
   ],
   "source": [
    "# reset the environment\n",
    "env_info = env.reset(train_mode=True)[brain_name]\n",
    "\n",
    "# number of agents\n",
    "num_agents = len(env_info.agents)\n",
    "print('Number of agents:', num_agents)\n",
    "\n",
    "# size of each action\n",
    "action_size = brain.vector_action_space_size\n",
    "print('Size of each action:', action_size)\n",
    "\n",
    "# examine the state space \n",
    "states = env_info.vector_observations\n",
    "state_size = states.shape[1]\n",
    "print('There are {} agents. Each observes a state with length: {}'.format(states.shape[0], state_size))\n",
    "print('The state for the first agent looks like:', states[0])"
   ]
  },
  {
   "cell_type": "markdown",
   "metadata": {},
   "source": [
    "### 3. Take Random Actions in the Environment\n",
    "\n",
    "In the next code cell, you will learn how to use the Python API to control the agent and receive feedback from the environment.\n",
    "\n",
    "Once this cell is executed, you will watch the agent's performance, if it selects an action at random with each time step.  A window should pop up that allows you to observe the agent, as it moves through the environment.  \n",
    "\n",
    "Of course, as part of the project, you'll have to change the code so that the agent is able to use its experience to gradually choose better actions when interacting with the environment!"
   ]
  },
  {
   "cell_type": "code",
   "execution_count": 6,
   "metadata": {},
   "outputs": [],
   "source": [
    "seed = 42\n",
    "\n",
    "# Create agent\n",
    "agent = Agent(state_size=state_size, action_size=action_size, n_agents=num_agents, seed=seed)"
   ]
  },
  {
   "cell_type": "code",
   "execution_count": 7,
   "metadata": {},
   "outputs": [],
   "source": [
    "def ddpg(n_episodes=2000, max_t = 1000, window_size=100, score_threshold=30.0, print_interval=10, epochs=1000):\n",
    "\n",
    "    scores_deque = deque(maxlen=window_size) \n",
    "    scores = []        \n",
    "    best_average_score = -np.inf\n",
    "    print(\"Training on {} started...\".format(agent.device))\n",
    "    \n",
    "    for i_episode in range(1, epochs+1):\n",
    "        \n",
    "        env_info = env.reset(train_mode=True)[brain_name]\n",
    "        states = env_info.vector_observations\n",
    "        \n",
    "        agent.reset()\n",
    "        episode_scores = np.zeros(num_agents) \n",
    "\n",
    "        for t in range(max_t):\n",
    "            actions = agent.act(states)\n",
    "            env_info = env.step(actions)[brain_name]\n",
    "            next_states = env_info.vector_observations\n",
    "            rewards = env_info.rewards\n",
    "            dones = env_info.local_done\n",
    "\n",
    "            agent.step(states=states, actions=actions, rewards=rewards, next_states=next_states, dones=dones)\n",
    "            episode_scores += np.array(rewards)\n",
    "            states = next_states\n",
    "            if np.any(dones):\n",
    "                break\n",
    "\n",
    "        episode_score = np.mean(episode_scores) # Summary of scores for this episode\n",
    "        scores_deque.append(episode_score)\n",
    "        scores.append(episode_score)\n",
    "        average_score = np.mean(scores_deque)\n",
    "\n",
    "        print('\\rEpisode: {}\\tAverage Score: {:.2f}\\tCurrent Score: {:.2f}'.format(i_episode, average_score, episode_score), end=\"\")\n",
    "        if i_episode % print_interval == 0:\n",
    "            print('\\rEpisode: {}\\tAverage Score: {:.2f}\\tCurrent Score: {:.2f}'.format(i_episode, average_score, episode_score))\n",
    "\n",
    "        if average_score >= score_threshold:\n",
    "            print('\\nEnvironment solved in {} episodes!\\tAverage Score: {:.2f}'.format(i_episode-window_size, average_score))\n",
    "            torch.save(agent.actor_local.state_dict(), 'checkpoint_actor.pth')\n",
    "            torch.save(agent.critic_local.state_dict(), 'checkpoint_critic.pth')\n",
    "            break\n",
    "\n",
    "    np.save('scores.npy', scores)\n",
    "    return scores"
   ]
  },
  {
   "cell_type": "markdown",
   "metadata": {},
   "source": [
    "When finished, you can close the environment."
   ]
  },
  {
   "cell_type": "code",
   "execution_count": 8,
   "metadata": {},
   "outputs": [
    {
     "name": "stdout",
     "output_type": "stream",
     "text": [
      "Training on cuda:0 started...\n",
      "Episode: 10\tAverage Score: 0.83\tCurrent Score: 1.17\n",
      "Episode: 20\tAverage Score: 0.82\tCurrent Score: 1.10\n",
      "Episode: 30\tAverage Score: 0.92\tCurrent Score: 1.30\n",
      "Episode: 40\tAverage Score: 1.02\tCurrent Score: 1.41\n",
      "Episode: 50\tAverage Score: 1.11\tCurrent Score: 1.47\n",
      "Episode: 60\tAverage Score: 1.21\tCurrent Score: 1.87\n",
      "Episode: 70\tAverage Score: 1.29\tCurrent Score: 1.98\n",
      "Episode: 80\tAverage Score: 1.34\tCurrent Score: 1.85\n",
      "Episode: 90\tAverage Score: 1.36\tCurrent Score: 1.44\n",
      "Episode: 100\tAverage Score: 1.39\tCurrent Score: 1.07\n",
      "Episode: 110\tAverage Score: 1.39\tCurrent Score: 0.75\n",
      "Episode: 120\tAverage Score: 1.42\tCurrent Score: 1.32\n",
      "Episode: 130\tAverage Score: 1.46\tCurrent Score: 1.94\n",
      "Episode: 140\tAverage Score: 1.55\tCurrent Score: 2.71\n",
      "Episode: 150\tAverage Score: 1.73\tCurrent Score: 3.55\n",
      "Episode: 160\tAverage Score: 1.88\tCurrent Score: 3.25\n",
      "Episode: 170\tAverage Score: 1.93\tCurrent Score: 2.01\n",
      "Episode: 180\tAverage Score: 1.93\tCurrent Score: 1.67\n",
      "Episode: 190\tAverage Score: 1.95\tCurrent Score: 1.61\n",
      "Episode: 200\tAverage Score: 1.97\tCurrent Score: 2.10\n",
      "Episode: 210\tAverage Score: 2.12\tCurrent Score: 3.08\n",
      "Episode: 220\tAverage Score: 2.33\tCurrent Score: 3.46\n",
      "Episode: 230\tAverage Score: 2.45\tCurrent Score: 2.43\n",
      "Episode: 240\tAverage Score: 2.52\tCurrent Score: 3.59\n",
      "Episode: 250\tAverage Score: 2.50\tCurrent Score: 3.04\n",
      "Episode: 260\tAverage Score: 2.57\tCurrent Score: 3.70\n",
      "Episode: 270\tAverage Score: 2.73\tCurrent Score: 3.70\n",
      "Episode: 280\tAverage Score: 2.85\tCurrent Score: 2.35\n",
      "Episode: 290\tAverage Score: 2.95\tCurrent Score: 2.26\n",
      "Episode: 300\tAverage Score: 3.12\tCurrent Score: 4.46\n",
      "Episode: 310\tAverage Score: 3.33\tCurrent Score: 4.55\n",
      "Episode: 320\tAverage Score: 3.48\tCurrent Score: 4.63\n",
      "Episode: 330\tAverage Score: 3.72\tCurrent Score: 6.26\n",
      "Episode: 340\tAverage Score: 4.08\tCurrent Score: 6.23\n",
      "Episode: 350\tAverage Score: 4.41\tCurrent Score: 6.28\n",
      "Episode: 360\tAverage Score: 4.67\tCurrent Score: 5.49\n",
      "Episode: 370\tAverage Score: 4.90\tCurrent Score: 8.19\n",
      "Episode: 380\tAverage Score: 5.37\tCurrent Score: 6.50\n",
      "Episode: 390\tAverage Score: 5.74\tCurrent Score: 7.52\n",
      "Episode: 400\tAverage Score: 6.00\tCurrent Score: 6.49\n",
      "Episode: 410\tAverage Score: 6.38\tCurrent Score: 8.90\n",
      "Episode: 420\tAverage Score: 7.06\tCurrent Score: 13.41\n",
      "Episode: 430\tAverage Score: 8.36\tCurrent Score: 18.87\n",
      "Episode: 440\tAverage Score: 9.37\tCurrent Score: 17.15\n",
      "Episode: 450\tAverage Score: 10.70\tCurrent Score: 18.89\n",
      "Episode: 460\tAverage Score: 11.57\tCurrent Score: 14.47\n",
      "Episode: 470\tAverage Score: 12.48\tCurrent Score: 16.53\n",
      "Episode: 480\tAverage Score: 13.83\tCurrent Score: 23.23\n",
      "Episode: 490\tAverage Score: 15.31\tCurrent Score: 25.63\n",
      "Episode: 500\tAverage Score: 17.02\tCurrent Score: 24.74\n",
      "Episode: 510\tAverage Score: 18.52\tCurrent Score: 22.67\n",
      "Episode: 520\tAverage Score: 19.82\tCurrent Score: 24.17\n",
      "Episode: 530\tAverage Score: 20.17\tCurrent Score: 25.08\n",
      "Episode: 540\tAverage Score: 21.44\tCurrent Score: 28.85\n",
      "Episode: 550\tAverage Score: 22.69\tCurrent Score: 31.14\n",
      "Episode: 560\tAverage Score: 24.61\tCurrent Score: 35.26\n",
      "Episode: 570\tAverage Score: 26.50\tCurrent Score: 32.06\n",
      "Episode: 580\tAverage Score: 27.28\tCurrent Score: 27.98\n",
      "Episode: 590\tAverage Score: 27.81\tCurrent Score: 22.82\n",
      "Episode: 600\tAverage Score: 28.27\tCurrent Score: 30.56\n",
      "Episode: 610\tAverage Score: 29.12\tCurrent Score: 33.97\n",
      "Episode: 620\tAverage Score: 29.92\tCurrent Score: 32.80\n",
      "Episode: 621\tAverage Score: 30.02\tCurrent Score: 34.03\n",
      "Environment solved in 521 episodes!\tAverage Score: 30.02\n"
     ]
    }
   ],
   "source": [
    "scores = ddpg()"
   ]
  },
  {
   "cell_type": "code",
   "execution_count": 9,
   "metadata": {},
   "outputs": [
    {
     "data": {
      "image/png": "[encoded data removed]",
      "text/plain": [
       "<Figure size 432x288 with 1 Axes>"
      ]
     },
     "metadata": {
      "needs_background": "light"
     },
     "output_type": "display_data"
    }
   ],
   "source": [
    "f = plt.figure()\n",
    "ax = f.add_subplot(111)\n",
    "plt.plot(range(1, len(scores) + 1), scores)\n",
    "plt.xlabel('# Episodes')\n",
    "plt.ylabel('Scores')\n",
    "plt.savefig('scores_plot.png')\n",
    "plt.show()"
   ]
  },
  {
   "cell_type": "code",
   "execution_count": null,
   "metadata": {},
   "outputs": [],
   "source": []
  },
  {
   "cell_type": "code",
   "execution_count": null,
   "metadata": {},
   "outputs": [],
   "source": [
    "env.close()"
   ]
  },
  {
   "cell_type": "markdown",
   "metadata": {},
   "source": [
    "### 4. It's Your Turn!\n",
    "\n",
    "Now it's your turn to train your own agent to solve the environment!  When training the environment, set `train_mode=True`, so that the line for resetting the environment looks like the following:\n",
    "```python\n",
    "env_info = env.reset(train_mode=True)[brain_name]\n",
    "```"
   ]
  }
 ],
 "metadata": {
  "kernelspec": {
   "display_name": "Python 3",
   "language": "python",
   "name": "python3"
  },
  "language_info": {
   "codemirror_mode": {
    "name": "ipython",
    "version": 3
   },
   "file_extension": ".py",
   "mimetype": "text/x-python",
   "name": "python",
   "nbconvert_exporter": "python",
   "pygments_lexer": "ipython3",
   "version": "3.6.10"
  }
 },
 "nbformat": 4,
 "nbformat_minor": 4
}
